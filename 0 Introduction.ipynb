{
 "cells": [
  {
   "cell_type": "markdown",
   "metadata": {
    "slideshow": {
     "slide_type": "slide"
    }
   },
   "source": [
    "# Computational Economics and Nonlinear Modeling (0)\n",
    "\n",
    "\n",
    "## : General Introduction\n",
    "\n",
    "PSE Summer School, 2017\n",
    "\n",
    "Pablo Winant"
   ]
  },
  {
   "cell_type": "markdown",
   "metadata": {
    "collapsed": true,
    "slideshow": {
     "slide_type": "subslide"
    }
   },
   "source": [
    "\n",
    "\n",
    "### Why learn to Program ?\n",
    "\n",
    "\n",
    "### What is the state of modeling in MacroEconomics ? Why Nonlinear ?\n",
    "\n"
   ]
  },
  {
   "cell_type": "markdown",
   "metadata": {
    "slideshow": {
     "slide_type": "subslide"
    }
   },
   "source": [
    "### Why should you learn to program ?\n",
    "\n",
    "- Econometricians, modellers, data scientists, spend a lot of time writing code\n",
    "    - and do it inefficiently...\n",
    "- Programming efficiently requires awareness of\n",
    "    - certain basic concepts: (types, control flow, functions, objects)\n",
    "    - some tools (programming language, code versioning, command line)\n",
    "    - which are never taught...\n",
    "- And yet they are very easy to learn\n",
    "    - anyone can become an expert !"
   ]
  },
  {
   "cell_type": "markdown",
   "metadata": {
    "slideshow": {
     "slide_type": "subslide"
    }
   },
   "source": [
    "### Now is the right time !\n",
    "\n",
    "- A lot of demand everywhere for skilled programmers.\n",
    "\n",
    "- Many faculties are introducing formal programming courses (for economists)\n",
    "    - MIT, NYU, Penn, ...\n",
    "    - Summer Bootcamps\n",
    "    \n",
    "    \n",
    "- New applications are even more code-intensive than before:\n",
    "\n",
    "    - data science\n",
    "    - machine learning\n",
    "    - modeling"
   ]
  },
  {
   "cell_type": "markdown",
   "metadata": {
    "slideshow": {
     "slide_type": "subslide"
    }
   },
   "source": [
    "### Do it in the open ! (2)\n",
    "\n",
    "- Many excellent online resources:\n",
    "\n",
    "    - [Software Carpentry](https://software-carpentry.org/)\n",
    "    - [QuantEcon](https://quantecon.org/news-item/need-for-speed-in-julia) from Tom Sargent and John Stachurski\n",
    "    - [Julia manuals/tutorials](https://julialang.org/learning/)\n",
    "    \n",
    "    \n",
    "- Opensource community is very welcoming:\n",
    "\n",
    "    - ask on mailing lists or online chats (Julia users, quantecon, dynare, ...)\n",
    "    - open issues (for instance against Dolo [https://github.com/EconForge/Dolo.jl/issues](https://github.com/EconForge/Dolo.jl/issues)\n",
    "    - participating is also a great occasion to learn"
   ]
  },
  {
   "cell_type": "markdown",
   "metadata": {
    "slideshow": {
     "slide_type": "subslide"
    }
   },
   "source": [
    "### Do it in the open ! (2)\n",
    "\n",
    "- Many excellent online resources:\n",
    "\n",
    "    - [Software Carpentry](https://software-carpentry.org/)\n",
    "    - [QuantEcon](https://quantecon.org/news-item/need-for-speed-in-julia) from Tom Sargent and John Stachurski\n",
    "    - [Julia manuals/tutorials](https://julialang.org/learning/)\n",
    "    \n",
    "    \n",
    "- Opensource community is very welcoming:\n",
    "\n",
    "    - ask on mailing lists or online chats (Julia users, quantecon, dynare, ...)\n",
    "    - open issues (for instance against Dolo (https://github.com/EconForge/Dolo.jl/issues)[https://github.com/EconForge/Dolo.jl/issues]\n",
    "    - participating is also a great occasion to learn"
   ]
  },
  {
   "cell_type": "markdown",
   "metadata": {
    "slideshow": {
     "slide_type": "subslide"
    }
   },
   "source": [
    "### graph about adoption of software since the introduction of Github\n",
    "\n",
    "![](gh.png)"
   ]
  },
  {
   "cell_type": "markdown",
   "metadata": {
    "slideshow": {
     "slide_type": "subslide"
    }
   },
   "source": [
    "### Why Julia ?\n",
    "\n",
    "That's what the Hands-on session is about..."
   ]
  },
  {
   "cell_type": "markdown",
   "metadata": {
    "slideshow": {
     "slide_type": "subslide"
    }
   },
   "source": [
    "## What is the state of modeling in Macro ?\n",
    "\n",
    "###  Traditional macro:\n",
    "\n",
    "- mickey-mouse models with fully nonlinear dynamics (neoclassical)\n",
    "- augmented DSGE models (augmented NK) approximated around steady-state\n",
    "\n",
    "    - scale very well (100+ equations)\n",
    "    - provide consistent narratives\n",
    "\n",
    "- rational expectations\n",
    "    - robust to Lucas Critique\n",
    "    - internally consistent"
   ]
  },
  {
   "cell_type": "markdown",
   "metadata": {
    "slideshow": {
     "slide_type": "subslide"
    }
   },
   "source": [
    "### Limitations of DSGE:\n",
    "- Often with a representative agent\n",
    "- Full rationality is a very strong assumption\n",
    "- Focuses on near steady-state dynamics\n",
    "   - totally missed the crisis and some nonlinear dynamics (e.g. defaults)\n",
    "   - who knows what the steady-state is ?"
   ]
  },
  {
   "cell_type": "markdown",
   "metadata": {
    "slideshow": {
     "slide_type": "subslide"
    }
   },
   "source": [
    "### Alternatives:\n",
    "\n",
    "- semi-structural approaches\n",
    "- perfect foresight scenarios\n",
    "- nonlinear RE models\n",
    "- heterogeneous agents\n",
    "- agent based models\n",
    "\n",
    "Today:\n",
    "- perfect foresight and nonlinear RE"
   ]
  },
  {
   "cell_type": "markdown",
   "metadata": {},
   "source": [
    "### Mental Break: even toddlers can learn to program\n",
    "\n",
    "https://www.youtube.com/watch?v=4gN9nPB7LIw\n",
    "\n",
    "https://www.kickstarter.com/projects/primotoys/cubetto-hands-on-coding-for-girls-and-boys-aged-3"
   ]
  }
 ],
 "metadata": {
  "celltoolbar": "Slideshow",
  "kernelspec": {
   "display_name": "Julia 0.6.0-rc1",
   "language": "julia",
   "name": "julia-0.6"
  },
  "language_info": {
   "file_extension": ".jl",
   "mimetype": "application/julia",
   "name": "julia",
   "version": "0.6.0"
  },
  "toc": {
   "colors": {
    "hover_highlight": "#DAA520",
    "navigate_num": "#000000",
    "navigate_text": "#333333",
    "running_highlight": "#FF0000",
    "selected_highlight": "#FFD700",
    "sidebar_border": "#EEEEEE",
    "wrapper_background": "#FFFFFF"
   },
   "moveMenuLeft": true,
   "nav_menu": {
    "height": "64px",
    "width": "252px"
   },
   "navigate_menu": true,
   "number_sections": true,
   "sideBar": true,
   "threshold": 4,
   "toc_cell": false,
   "toc_section_display": "block",
   "toc_window_display": false,
   "widenNotebook": false
  }
 },
 "nbformat": 4,
 "nbformat_minor": 2
}

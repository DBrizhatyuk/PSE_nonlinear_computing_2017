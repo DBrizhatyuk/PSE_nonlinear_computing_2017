{
 "cells": [
  {
   "cell_type": "markdown",
   "metadata": {},
   "source": [
    "# Computational Economics and Nonlinear Modeling (3)\n",
    "\n",
    "## Important Concepts\n",
    "\n",
    "PSE Summer School, 2017\n",
    "\n",
    "Pablo Winant"
   ]
  },
  {
   "cell_type": "markdown",
   "metadata": {},
   "source": [
    "# Exercise: interpolation\n",
    "\n",
    "Let $f$ be a one-dimensional function defined by $f(x) = sin(5 x)/(5 x)$ with $f(0)=1$. The goal of this exercise is to compare several interpolation methods for $f$.\n",
    "\n",
    "- Define $f$ and plot $f$ from -1 to +1\n",
    "- Define a regularly spaced interval `xvec` with N points and compute the values of `f` on `xvec`\n",
    "-  Write a function `linapprox` that takes as arguments:\n",
    "   - A function `f` mapping some interval $[a, b]$ into $\\mathbb{R}$\n",
    "   - Two scalars `a` and `b` providing the limits of this interval\n",
    "   - An integer `n` determining the number of grid points\n",
    "   - A number `x` satisfying $a \\leq x \\leq b$\n",
    "\n",
    "   and returns the piecewise linear interpolation of `f` at `x`, based on `n` evenly spaced grid points `a = point[1] < point[2] < ... < point[n] = b`.\n",
    "- Use linapprox to interpolate `f` (make a plot)\n",
    "- Compare with the result from `Interpolations.jl` (precision, speed)\n",
    "- (optional) use BasisMatrices.jl"
   ]
  },
  {
   "cell_type": "markdown",
   "metadata": {},
   "source": [
    "# Exercise: constrained optimization\n",
    "\n",
    "Consider the function $f(x,y) = (x-0.5)^2 + (y-0.3)^2$.\n",
    "\n",
    "- use Optim.jl to minimize $f$ without constraint\n",
    "\n",
    "- now, consider the constraint $x<0.3$ and maximize $f$ under this new constraint.\n",
    "\n",
    "- reformulate the problem as a root finding with lagrangians. Write the complementarity conditions.\n",
    "\n",
    "- solve using NLSolve.jl"
   ]
  },
  {
   "cell_type": "markdown",
   "metadata": {},
   "source": [
    "# Exercise: gaussian integration\n",
    "\n",
    "Let $\\epsilon$ be a gaussian process with variance $\\sigma$ and $f$ denote any function\n",
    "\n",
    "- Define a function integrate(f, sigma) which approximate $E[f(\\epsilon)]$\n",
    "    - using Monte-Carlo integration\n",
    "    - using quadrature routines from QuantEcon"
   ]
  }
 ],
 "metadata": {
  "kernelspec": {
   "display_name": "Julia 0.6.0-rc1",
   "language": "julia",
   "name": "julia-0.6"
  },
  "language_info": {
   "file_extension": ".jl",
   "mimetype": "application/julia",
   "name": "julia",
   "version": "0.6.0"
  },
  "toc": {
   "colors": {
    "hover_highlight": "#DAA520",
    "navigate_num": "#000000",
    "navigate_text": "#333333",
    "running_highlight": "#FF0000",
    "selected_highlight": "#FFD700",
    "sidebar_border": "#EEEEEE",
    "wrapper_background": "#FFFFFF"
   },
   "moveMenuLeft": true,
   "nav_menu": {
    "height": "65px",
    "width": "253px"
   },
   "navigate_menu": true,
   "number_sections": true,
   "sideBar": true,
   "threshold": 4,
   "toc_cell": false,
   "toc_section_display": "block",
   "toc_window_display": false,
   "widenNotebook": false
  }
 },
 "nbformat": 4,
 "nbformat_minor": 2
}

{
 "cells": [
  {
   "cell_type": "markdown",
   "metadata": {},
   "source": [
    "# Computational Economics and Nonlinear Modeling (5)\n",
    "\n",
    "##  Dolo and applications\n",
    "\n",
    "PSE Summer School, 2017\n",
    "\n",
    "Pablo Winant"
   ]
  },
  {
   "cell_type": "markdown",
   "metadata": {},
   "source": [
    "# Quick presentation of Dolo"
   ]
  },
  {
   "cell_type": "markdown",
   "metadata": {},
   "source": [
    "## What is it ?\n",
    "\n",
    "- Dynare for nonlinear models but:\n",
    "    - much more modular\n",
    "    - based on a complete opensource stack\n",
    "        - lookup Dyno.jl if interested in Dynare/Julia\n",
    "    \n",
    "- Opensource:\n",
    "    - developped during my thesis\n",
    "    - then at the IMF\n",
    "    - then at the BOE\n",
    "    \n",
    "- Main contributors:\n",
    "    - Spencer Lyon (NYU)\n",
    "    - Anastasia Zhutova (PSE)\n",
    "    - James Graham (NYU)\n",
    "    - anybody is welcome to help / report bugs / ask questions"
   ]
  },
  {
   "cell_type": "markdown",
   "metadata": {},
   "source": [
    "Goals: \n",
    "\n",
    "- separate model definitions from the solution routines\n",
    "- also leverage the programming language for anything that is not the model:\n",
    "    - graphs\n",
    "    - loops, ...\n",
    "- aim for high performance generic algorithms\n",
    "    - JIT, GPU, ..."
   ]
  },
  {
   "cell_type": "markdown",
   "metadata": {},
   "source": [
    "## The YAML file\n",
    "\n",
    "- uses YAML standard\n",
    "- contains:\n",
    "    - declarations\n",
    "    - equations\n",
    "        - same as Dynare conventions for timing\n",
    "    - calibration \n",
    "    - exogenous shock\n",
    "    - calibration\n",
    "    - options"
   ]
  },
  {
   "cell_type": "markdown",
   "metadata": {},
   "source": [
    "## Examples\n",
    "\n",
    "github dolo_models\n",
    "\n",
    "Ongoing documentation"
   ]
  },
  {
   "cell_type": "markdown",
   "metadata": {},
   "source": [
    "## Test everything is working"
   ]
  },
  {
   "cell_type": "markdown",
   "metadata": {},
   "source": [
    "- Import the file `rbc.yaml`\n",
    "- Use the model object to compute steady-state residuals\n",
    "- Compute linear perturbation solution `perturbate`\n",
    "- Compute nonlinear solution `time_iteration`\n",
    "- Compare decision rules (using `tabulate`)"
   ]
  },
  {
   "cell_type": "markdown",
   "metadata": {},
   "source": [
    "# Add a catastrophic shock to the RBC model\n",
    "\n",
    "There is an implementation of the RBC model which uses a Markov Chain for exogenous shocks. It is included in the examples as `rbc_dtmscc.yaml`. \n",
    "\n",
    "\n",
    "In the orginal implementation, the law of motion for the capital is:\n",
    "\n",
    "  $$k_t = (1-\\delta)k_{t-1} + i_{t-1}$$\n",
    "\n",
    "The productivity process depends on an AR1:\n",
    "\n",
    "  $$z_t = \\rho z_{t-1} + \\epsilon_{z,t}$$\n",
    "\n",
    "and is given by:\n",
    "\n",
    "  $$A_t = \\exp(z_t)$$\n",
    "  \n",
    "The goal of this exercise is to add a catastrophic event to the model. This is done by defining two additional Markov states $x_t$ and $y_t$ defined as follows:\n",
    "\n",
    "- $x_t$ is equal to 1 in the first period the disaster hits the economy\n",
    "- $y_t$ is equal to 1 as long as the economy has not recovered (probability $p$ of staying in the disaster state)\n",
    "  \n",
    "When there is no disaster ($x_t=y_t=0$) there is a probability $u=3\\%$ that a disaster happens next period.\n",
    "\n",
    "Given the parameters $c_k=30\\%$ and  $c_z = 1 - \\left( 1- c_k \\right)^{1-\\alpha}$ the equations are amended as follows:\n",
    "\n",
    "$$k_t = (1-\\delta)k_{t-1}*(1-c_k x_t)+ i_{t-1}$$\n",
    "\n",
    "$$A_t = \\exp(z_t)*(1-c_z y_t)$$\n",
    "\n",
    "Save `rbc_mc.yaml` as `rbc_disaster.yaml` and add the above modifications. Solve and simulate the new version.\n",
    "\n",
    "Use `time_iteration`, `tabulate`, `simulate`\n"
   ]
  },
  {
   "cell_type": "markdown",
   "metadata": {
    "collapsed": true
   },
   "source": [
    "# Simple monetary rules and zero lower bound"
   ]
  },
  {
   "cell_type": "markdown",
   "metadata": {
    "collapsed": true
   },
   "source": [
    "This part is inspired by the [paper](https://www.ecb.europa.eu/pub/pdf/scpwps/ecbwp377.pdf?374d600f5c7511c6f962e8480cd95a37): *Optimal Monetary Policy Under Commitment with a Zero Bound on Nominal Interest Rages* from Adam and Bili\n",
    "\n",
    "Objective : replicate the model with simple rules.\n",
    "\n",
    "The model is defined by the following equations:\n",
    "\n",
    "$$\\pi_{t} = \\beta \\; \\pi_{t+1} + \\lambda \\; y_{t} + u_{t}$$\n",
    "$$y_{t} = y_{t+1} - \\phi \\; \\left(i_{t} - \\pi_{t+1}\\right) + g_{t}$$\n",
    "$$u_{t} = \\rho_{u} \\; u_{t-1} + \\epsilon_{u,t}$$\n",
    "$$g_{t} = \\rho_{g} \\; g_{t-1} + \\epsilon_{g,t}$$\n",
    "\n",
    "We will try to solve the model under the assumption that the nominal interest rate is set by a truncated Taylor Rule: \n",
    "\n",
    "$$i_t = \\max(0, c_y \\; y_t + c_{\\pi} \\; \\pi_t )$$\n",
    "\n",
    "We will use the `RBC` calibration from the paper:\n",
    "\n",
    "$  \\beta = 0.9913 $, $  r^{\\star} =1/\\beta-1 $, $  \\alpha = 0.007 $, $  \\lambda = 0.057 $, $  \\phi = 1.00 $,\n",
    "$  \\rho_u = 0.36 $, $  \\rho_g = 0.8 $, $  \\sigma_u = 0.00171 $, $  \\sigma_g = 0.00294 $\n",
    "\n",
    "As for the Taylor Rule, as a starting point: $ c_{\\pi}=1.5$, $c_y = 0.5$"
   ]
  },
  {
   "cell_type": "markdown",
   "metadata": {},
   "source": [
    "## Question 1: preliminary steps\n",
    "\n",
    "Answer the following questions:\n",
    "\n",
    "- what type of exogenous to use ?\n",
    "- which are the states ? the controls ? the exogenous shocks ? the parameters ?\n",
    "\n",
    "Which algorithms can be used to solve:\n",
    "\n",
    "- the non-constrained problem\n",
    "- the constrained one ?"
   ]
  },
  {
   "cell_type": "markdown",
   "metadata": {
    "collapsed": true
   },
   "source": [
    "## Question 2: write the model file\n",
    "\n",
    "Write in that order:\n",
    "\n",
    "- symbols\n",
    "- equations\n",
    "- calibration\n",
    "- options:\n",
    "    - distribution of shocks\n",
    "    - (approximation grid)\n",
    "\n",
    "Import and check that everything is OK.\n",
    "\n",
    "Use: `yaml_import`."
   ]
  },
  {
   "cell_type": "markdown",
   "metadata": {},
   "source": [
    "## Question 3: first order solution\n",
    "\n",
    "- produce a first order approximation\n",
    "- optional:\n",
    "    - inspect IRFS\n",
    "    - simulate and check how often constraint is hit\n",
    "    - change value of `c_pi` and verify Taylor principle\n",
    "    \n",
    "Use: `approximate_controls`, `simulate`, `plot_irfs`, `model.calibration`  and `model.set_calibration`"
   ]
  },
  {
   "cell_type": "markdown",
   "metadata": {},
   "source": [
    "## Question 4: constrained perfect foresight solution\n",
    "\n",
    "- reformulate the constraint as a complementarity condition\n",
    "- compute a perfect foresight solution for an initial shock on $\\epsilon_u$ and $\\epsilon_g$\n",
    "    - optional: what happens if shock happens in period $t=2$ rather than $t=0$ ?\n",
    "    \n",
    "Use: `deterministic_solve`, `plot_irfs`"
   ]
  },
  {
   "cell_type": "code",
   "execution_count": null,
   "metadata": {
    "collapsed": true
   },
   "outputs": [],
   "source": []
  }
 ],
 "metadata": {
  "kernelspec": {
   "display_name": "Julia 0.6.0-rc1",
   "language": "julia",
   "name": "julia-0.6"
  },
  "language_info": {
   "file_extension": ".jl",
   "mimetype": "application/julia",
   "name": "julia",
   "version": "0.6.0"
  },
  "toc": {
   "colors": {
    "hover_highlight": "#DAA520",
    "navigate_num": "#000000",
    "navigate_text": "#333333",
    "running_highlight": "#FF0000",
    "selected_highlight": "#FFD700",
    "sidebar_border": "#EEEEEE",
    "wrapper_background": "#FFFFFF"
   },
   "moveMenuLeft": true,
   "nav_menu": {
    "height": "12px",
    "width": "252px"
   },
   "navigate_menu": true,
   "number_sections": true,
   "sideBar": true,
   "threshold": 4,
   "toc_cell": false,
   "toc_section_display": "block",
   "toc_window_display": false,
   "widenNotebook": false
  }
 },
 "nbformat": 4,
 "nbformat_minor": 2
}

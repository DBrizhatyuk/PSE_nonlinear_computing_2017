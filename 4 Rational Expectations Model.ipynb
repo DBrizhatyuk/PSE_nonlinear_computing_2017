{
 "cells": [
  {
   "cell_type": "markdown",
   "metadata": {
    "collapsed": true,
    "slideshow": {
     "slide_type": "slide"
    }
   },
   "source": [
    "# Computational Economics and Nonlinear Modeling (4)\n",
    "\n",
    "## Rational Expectations Models\n",
    "\n",
    "PSE Summer School, 2017\n",
    "\n",
    "Pablo Winant"
   ]
  },
  {
   "cell_type": "markdown",
   "metadata": {
    "slideshow": {
     "slide_type": "slide"
    }
   },
   "source": [
    "## Example: Stochastic Neoclassical Model"
   ]
  },
  {
   "cell_type": "markdown",
   "metadata": {
    "slideshow": {
     "slide_type": "subslide"
    }
   },
   "source": [
    "Productivity $z_t = \\rho z_{t-1} + \\epsilon_t$\n",
    "\n",
    "Capital law of motion: $k_t = (1-\\delta) k_{t-1} + i_{t-1}$.\n",
    "\n",
    "Production: $y_t = f(k_t) = z_t {k_t}^{\\alpha}$\n",
    "\n",
    "Consumption: $c_t = y_t - i_t$\n",
    "\n",
    "Optimal investment determined by maximization program, given $k_0 = \\overline{k}$: \n",
    "\n",
    "$$ \\max_{0 \\leq i_t \\leq y_t} \\sum_t \\beta^t \\frac{\\left( c_t \\right)^{1-\\gamma}}{1-\\gamma} $$"
   ]
  },
  {
   "cell_type": "markdown",
   "metadata": {
    "slideshow": {
     "slide_type": "subslide"
    }
   },
   "source": [
    "Bellman formulation:\n",
    "\n",
    "$$V(z_t, k_t) = \\max_{0 \\leq i_t \\leq y_t} \\frac{\\left( c_t \\right)^{1-\\gamma}}{1-\\gamma}  + \\beta E_{z_t} \\left[ V(z_{t+1}, k_{t+1}) \\right]$$\n",
    "\n",
    "with:\n",
    "$$k_{t+1} = (1-\\delta) k_{t} + i_{t}$$"
   ]
  },
  {
   "cell_type": "markdown",
   "metadata": {
    "slideshow": {
     "slide_type": "fragment"
    }
   },
   "source": [
    "Euler equation: $$\\beta E_t \\left[  \\left( \\frac{c_{t+1}}{c_t} \\right)^{-\\gamma} \\left( \\alpha \\frac{y_t}{k_t} + (1-\\delta) \\right) \\right] \\leq 1 \\perp 0\\leq i_t$$\n",
    "\n"
   ]
  },
  {
   "cell_type": "markdown",
   "metadata": {
    "slideshow": {
     "slide_type": "subslide"
    }
   },
   "source": [
    "What is the state-space ?\n",
    "   - Minimal information to determine decisions at date $t$\n",
    "\n",
    "Here:\n",
    "   - exogenous states: $m_t=(z_t)$\n",
    "   - endogenous states: $s_t=(k_t)$\n",
    "   - controls: $x_t=(i_t)$\n",
    "   - auxiliary variables: $y_t=(y_t, c_t)$"
   ]
  },
  {
   "cell_type": "markdown",
   "metadata": {
    "slideshow": {
     "slide_type": "subslide"
    }
   },
   "source": [
    "General notations:\n",
    "\n",
    "- transitions:\n",
    "    $$ s_t = {\\color{red} g} \\left( m_{t-1}, s_{t-1}, x_{t-1}, m_t \\right)$$\n",
    "    \n",
    "- Bellman:\n",
    "\n",
    "    $$V(m_t, s_t) = \\max_{\\underline{x} \\leq x_t \\leq \\overline{x}} {\\color{red} U}\\left(m_t, s_t, x_t\\right) + {\\color{blue} \\beta} E_{m_t} V\\left(m_{t+1}, s_{t+1}\\right)$$\n",
    "    \n",
    "- Euler/Equilibrium conditions:\n",
    "\n",
    "    $$E_t \\left[ {\\color{red}f}\\left(m_t, s_t, x_t, m_{t+1}, s_{t+1}, x_{t+1} \\right) \\right] = 0 \\perp \\underline{x}(m_t,x_t) \\leq x_t \\leq\\overline{x}(m_t,x_t)$$"
   ]
  },
  {
   "cell_type": "markdown",
   "metadata": {
    "slideshow": {
     "slide_type": "subslide"
    }
   },
   "source": [
    "In Dolo:\n",
    "\n",
    "- ${\\color{red}g}$: transition\n",
    "- ${\\color{red}f}$: arbitrage\n",
    "- ${\\color{red}U}$: felicity\n",
    "- ${\\color{red}{\\underline{x}}}, {\\color{red}{\\overline{x}}}$: controls_lb, controls_ub\n",
    "\n",
    "Specific algorithm can use other functions:\n",
    "- $z_t =E_{m_t} {\\color{red}h}(m_{t+1}, s_{t+1}, x_{t+1})$: expectation\n",
    "- $x_t = {\\color{red}d}\\left( m_t, s_t, z_t \\right)$: direct_response"
   ]
  },
  {
   "cell_type": "code",
   "execution_count": 1,
   "metadata": {
    "slideshow": {
     "slide_type": "subslide"
    }
   },
   "outputs": [
    {
     "data": {
      "text/html": [
       "     <table>\n",
       "         <td><b>Model</b></td>\n",
       "     <tr>\n",
       "        <td>name</td>\n",
       "        <td>Neoclassical</td>\n",
       "      </tr>\n",
       "      <tr>\n",
       "        <td>filename</td>\n",
       "        <td>neoclassical.yaml</td>\n",
       "      </tr>\n",
       "    </table>\n",
       "<table width=\"100%\"><tr><td><b>Type</b></td><td><b>Equation</b></td></tr>\n",
       "<tr><td>transition</td><td>\\[k_{t} = 1-\\delta k_{t-1}+i_{t-1}\\]</td></tr><tr><td>felicity</td><td>\\[u_{t} = \\frac{\\left(c_{t}\\right)^{1-\\gamma}}{1-\\gamma}\\]</td></tr><tr><td>arbitrage</td><td>\\[1-\\beta \\left(\\frac{c_{t+1}}{c_{t}}\\right)^{-\\gamma} r_{I,t+1}\\]</td></tr><table>"
      ],
      "text/plain": []
     },
     "execution_count": 1,
     "metadata": {},
     "output_type": "execute_result"
    },
    {
     "name": "stdout",
     "output_type": "stream",
     "text": [
      "Model\n"
     ]
    }
   ],
   "source": [
    "import Dolo\n",
    "model = Dolo.yaml_import(\"notebooks/neoclassical.yaml\")"
   ]
  },
  {
   "cell_type": "markdown",
   "metadata": {
    "slideshow": {
     "slide_type": "slide"
    }
   },
   "source": [
    "## The solution and the discretized model\n",
    "\n",
    "\n",
    "The fixed-point of the Bellman is a *function* $V_t=V(z_t,k_t)$.\n",
    "\n",
    "The decision rule $i_t=i(z_t, k_t)$ is also a *function* $\\varphi: (m_t, s_t)\\rightarrow x_t$\n",
    "\n",
    "Denote by $\\mathcal{S} = \\{(m,s)\\}$ the state-space\n",
    "Decision rules defined over $\\mathcal{S}$ live in an infinite dimensional space $\\mathcal{D}$\n",
    "\n",
    "If $\\mathcal{S}$ is compact, then $\\mathcal{D}$ is complete."
   ]
  },
  {
   "cell_type": "markdown",
   "metadata": {
    "slideshow": {
     "slide_type": "subslide"
    }
   },
   "source": [
    "### Discretize the state-space:\n",
    "\n",
    "- $G_m$: grid for exogenous process\n",
    "    - example: $z_i = (2\\frac{i}{N_m-1}-1)\\sigma_{z,\\infty} $\n",
    "    - general: $(m_1, ..., m_{N_m})$ (2d matrix)\n",
    "- $G_s$  grid for endogenous states\n",
    "    - example: $k_i = \\underline{k} + \\frac{i}{N_s-1}(\\overline{k}- \\underline{k})$\n",
    "    - general $\\left(s_1, ..., s_{N_s}\\right)$  (2d matrix)\n",
    "- $G = G_m \\otimes G_s $: grid for endogenous states\n",
    "    - general $\\left(m_i, s_j\\right)_{ij}$  (2d matrix)\n"
   ]
  },
  {
   "cell_type": "code",
   "execution_count": 76,
   "metadata": {
    "slideshow": {
     "slide_type": "subslide"
    }
   },
   "outputs": [
    {
     "data": {
      "text/plain": []
     },
     "execution_count": 76,
     "metadata": {},
     "output_type": "execute_result"
    },
    {
     "name": "stdout",
     "output_type": "stream",
     "text": [
      "Dolo.DecisionRule{Dolo.CartesianGrid,Dolo.CartesianGrid}\n"
     ]
    }
   ],
   "source": [
    "# model.exogenous\n",
    "# model.grid\n",
    "# dp = Dolo.discretize(model.exogenous)\n",
    "# Dolo.nodes( Dolo.discretize(model.exogenous).grid)\n",
    "# Dolo.nodes(grid)\n",
    "# dr = Dolo.DecisionRule(dp.grid, model.grid, 2)\n"
   ]
  },
  {
   "cell_type": "code",
   "execution_count": 99,
   "metadata": {
    "slideshow": {
     "slide_type": "subslide"
    }
   },
   "outputs": [
    {
     "data": {
      "image/png": "[encoded data removed]",
      "text/plain": [
       "PyPlot.Figure(PyObject <matplotlib.figure.Figure object at 0x7fd9671b0ac8>)"
      ]
     },
     "metadata": {},
     "output_type": "display_data"
    },
    {
     "data": {
      "text/plain": [
       "1-element Array{Any,1}:\n",
       " PyObject <matplotlib.lines.Line2D object at 0x7fd963b8d278>"
      ]
     },
     "execution_count": 99,
     "metadata": {},
     "output_type": "execute_result"
    }
   ],
   "source": [
    "import PyPlot\n",
    "grid = Dolo.CartesianGrid([0.0, 0.0], [1.0, 1.0], [20, 20])\n",
    "nodes = Dolo.nodes(grid)\n",
    "PyPlot.plot(nodes[:,1],nodes[:,2],\"o\")\n",
    "# grid = Dolo.SmolyakGrid([0.0, 0.0], [1.0, 1.0], 3)\n",
    "# nodes = Dolo.nodes(grid)\n",
    "# PyPlot.plot(nodes[:,1],nodes[:,2],\"o\")"
   ]
  },
  {
   "cell_type": "markdown",
   "metadata": {
    "slideshow": {
     "slide_type": "subslide"
    }
   },
   "source": [
    "### Approximate the solution\n",
    "\n",
    "When $G_s$ and $G_m$ have a simple geometry, we can interpolate (extrapolate?) to approximate smooth functions.\n",
    "\n",
    "A function on G is approximately characterized by values on $G$.\n",
    "\n",
    "We identify the decision rule with the finite set of values on the grid.\n"
   ]
  },
  {
   "cell_type": "code",
   "execution_count": 113,
   "metadata": {
    "slideshow": {
     "slide_type": "subslide"
    }
   },
   "outputs": [
    {
     "data": {
      "image/png": "[encoded data removed]",
      "text/plain": [
       "PyPlot.Figure(PyObject <matplotlib.figure.Figure object at 0x7fd963a306a0>)"
      ]
     },
     "metadata": {},
     "output_type": "display_data"
    },
    {
     "data": {
      "text/plain": [
       "1-element Array{Any,1}:\n",
       " PyObject <matplotlib.lines.Line2D object at 0x7fd9638c0e80>"
      ]
     },
     "execution_count": 113,
     "metadata": {},
     "output_type": "execute_result"
    }
   ],
   "source": [
    "dr = Dolo.DecisionRule(dp.grid, model.grid, 1) #\n",
    "\n",
    "s = Dolo.nodes(model.grid)\n",
    "vals = sin.(s)\n",
    "Dolo.set_values!(dr, [vals for i=1:Dolo.n_nodes(dp)])\n",
    "PyPlot.plot(s, sin.(Dolo.nodes(model.grid)),\"o\")\n",
    "\n",
    "PyPlot.plot(s, dr(1, s))"
   ]
  },
  {
   "cell_type": "markdown",
   "metadata": {
    "slideshow": {
     "slide_type": "subslide"
    }
   },
   "source": [
    "### Compute the expectations\n",
    "\n",
    "- Traditional way (1):\n",
    "\n",
    "    - exogenous process is iid ($\\epsilon$)\n",
    "    - integration nodes ($\\epsilon_i$) and weights ($w_i$) are computed so that\n",
    "        $$ E \\left( f(\\epsilon) \\right ) = \\sum_i w_i f(x_i)$$\n",
    "    - if exogenous shock follows transition rules $m_t = \\tau (m_{t-1}, \\epsilon_t)$, integration nodes are given by:\n",
    "        $$m_ij = \\tau (m_i, \\epsilon_j)$$\n",
    "        \n",
    "    - example ar1\n"
   ]
  },
  {
   "cell_type": "markdown",
   "metadata": {
    "slideshow": {
     "slide_type": "subslide"
    }
   },
   "source": [
    "### Compute the expectations (2)\n",
    "\n",
    "- Traditional way (2):\n",
    "\n",
    "    - approximate $m_t$ by a Markov Chain\n",
    "    - example:\n",
    "        - $m_t$ follows an AR1\n",
    "        - Rouwenhorst/Tauchen yield matrices\n",
    "             - $P$ (transitions) \n",
    "             - $Q$ (nodes)"
   ]
  },
  {
   "cell_type": "markdown",
   "metadata": {
    "slideshow": {
     "slide_type": "subslide"
    }
   },
   "source": [
    "### Compute the expectations (3)\n",
    "\n",
    "- Fuse both approaches: Generalized Discretized Process\n",
    "    \n",
    "    - nodes today: $(m_i)_{i \\in N_m}$\n",
    "    - nodes tomorrow: $(m_{ij})_{i \\in N_m, j \\in K(i)} $\n",
    "    - integration weights: $(w_{ij})_{i \\in N_m, j \\in K(i)} $\n",
    "    \n",
    "- Approximate expectations from each exogenous grid point:\n",
    "$$ E_{m_i} \\left( f(m) \\right ) = \\sum_i w_i f(m_{ij})$$"
   ]
  },
  {
   "cell_type": "code",
   "execution_count": 147,
   "metadata": {
    "slideshow": {
     "slide_type": "subslide"
    }
   },
   "outputs": [
    {
     "data": {
      "text/plain": []
     },
     "execution_count": 147,
     "metadata": {},
     "output_type": "execute_result"
    },
    {
     "name": "stdout",
     "output_type": "stream",
     "text": [
      "Dolo.DecisionRule{Dolo.CartesianGrid,Dolo.CartesianGrid}\n"
     ]
    }
   ],
   "source": [
    "# model.exogenous\n",
    "# dp1 = Dolo.discretize(Dolo.MarkovChain, model.exogenous)\n",
    "# dp2 = Dolo.discretize(Dolo.DiscretizedProcess, model.exogenous)\n",
    "# dp2.integration_nodes\n",
    "# sol = Dolo.time_iteration(model, verbose = false)\n",
    "# sol1 = Dolo.time_iteration(model, dp1, verbose = false)\n",
    "# sol1.dr\n",
    "# sol2 = Dolo.time_iteration(model, dp2, verbose = false)\n",
    "# sol2.dr"
   ]
  },
  {
   "cell_type": "code",
   "execution_count": 5,
   "metadata": {
    "slideshow": {
     "slide_type": "subslide"
    }
   },
   "outputs": [
    {
     "data": {
      "text/plain": []
     },
     "execution_count": 5,
     "metadata": {},
     "output_type": "execute_result"
    },
    {
     "name": "stdout",
     "output_type": "stream",
     "text": [
      "Dolo.BiTaylorExpansion\n"
     ]
    }
   ],
   "source": [
    "# btr = Dolo.perturbate(model);\n",
    "# btr.solution"
   ]
  },
  {
   "cell_type": "markdown",
   "metadata": {
    "slideshow": {
     "slide_type": "slide"
    }
   },
   "source": [
    "## Value function iteration"
   ]
  },
  {
   "cell_type": "markdown",
   "metadata": {
    "slideshow": {
     "slide_type": "subslide"
    }
   },
   "source": [
    "VFI consists in considering the updating rule $V^n \\rightarrow V^{n+1}$ where:\n",
    "\n",
    "   $$V^{n+1}(m_t, s_t) = \\max_{\\underline{x} \\leq x_t \\leq \\overline{x}} {\\color{red} U}\\left(m_t, s_t, x_t\\right) + {\\color{blue} \\beta} E_{m_t} V^n\\left(m_{t+1}, s_{t+1}\\right)$$\n",
    "   \n",
    "   \n",
    "Good theoretical properties under *mild* assumptions on the model\n",
    "\n",
    "    - preserves concavity of $V$\n",
    "    - proof of *global* convergence used to establish existence of solution\n",
    "    \n",
    "Convergence is *geometric* (i.e. slow)\n",
    "\n",
    "Decision rule is obtained from the maximization."
   ]
  },
  {
   "cell_type": "markdown",
   "metadata": {
    "slideshow": {
     "slide_type": "subslide"
    }
   },
   "source": [
    "### Naive algorithm\n",
    "\n",
    "- Choose a reasonable initial guess for the decision rule $x=\\varphi(m,s)$\n",
    "- Perform the recursion  $$V^{n+1}(m_t, s_t) = {\\color{red} U}\\left(m_t, s_t, x_t\\right) + {\\color{blue} \\beta} E_{m_t} V^n\\left(m_{t+1}, g(m_t, s_t, \\varphi(s_t) )\\right) $$\n",
    "  to get initial guess $V_0$.\n",
    "     - at each step one needs to determine l.h.s. for $m_t,s_t\\in \\mathcal{G}$\n",
    "- Perform the iterations:\n",
    "    $$V^{n+1}=\\max_{x^{n+1}} ... + V^{n}(...)$$\n",
    "    - stop when $|V^n-V^{n+1}|<\\kappa$ or $|x_{n+1}-x_n|<\\eta$\n",
    "  "
   ]
  },
  {
   "cell_type": "markdown",
   "metadata": {
    "slideshow": {
     "slide_type": "subslide"
    }
   },
   "source": [
    "### VFI: Naive algorithm (2)\n",
    "\n",
    "- Maximization $$V^{n+1}=\\max_{x^{n+1}} ... +  \\beta  V^{n}(...)$$ can be done:\n",
    "    - by grid search (DSS method): quick if vectorized  \n",
    "    - with nonlinear solver (golden ratio, Newton, Nelder-Mead, etc.)\n",
    "\n",
    "- This step is expensive:\n",
    "    - grid search becomes quickly infeasible when there are many controls\n",
    "    - nonlinear solver is typically slow because one iterates of all states nodes\n"
   ]
  },
  {
   "cell_type": "markdown",
   "metadata": {
    "slideshow": {
     "slide_type": "subslide"
    }
   },
   "source": [
    "### VFI: Howard Improvements\n",
    "\n",
    "Alternate two operations:\n",
    "\n",
    "- Value improvement: $\\tilde{V}^{n+1}=\\max_{x^{n+1}} ... +  \\beta  V^{n}(...)$\n",
    "    - yields $\\tilde{V}^{n+1}$ and $x^{n+1}$\n",
    "- Policy evaluation:     given $x^{n+1}$ find the fixed point $V^{n+1}$ of \n",
    "    ${V}^{k+1}= U + \\beta E\\left[V^{k}(...)\\right]$\n",
    "    - involves easy computions\n",
    "    - remark (1): might be quicker to not reach full convergence\n",
    "    - remark (2): it is a linear system in the values of $V^{n+1}$\n",
    "    \n",
    "Convergence of $V_n$ is quadratic (i.e. fast)"
   ]
  },
  {
   "cell_type": "code",
   "execution_count": 12,
   "metadata": {
    "collapsed": true,
    "slideshow": {
     "slide_type": "subslide"
    }
   },
   "outputs": [],
   "source": [
    "# show verbose output"
   ]
  },
  {
   "cell_type": "markdown",
   "metadata": {
    "collapsed": true,
    "slideshow": {
     "slide_type": "subslide"
    }
   },
   "source": [
    "### Other variants\n",
    "\n",
    "Enveloppe condition\n",
    "\n",
    "Reinforcement learning"
   ]
  },
  {
   "cell_type": "markdown",
   "metadata": {
    "slideshow": {
     "slide_type": "slide"
    }
   },
   "source": [
    "## Time Iteration Algorithms"
   ]
  },
  {
   "cell_type": "markdown",
   "metadata": {
    "slideshow": {
     "slide_type": "subslide"
    }
   },
   "source": [
    "- Euler equation  (can be reformulated to remove complementarities)\n",
    "\n",
    "$$E_t \\left[ {\\color{red}f}\\left(m_t, s_t, x_t, m_{t+1}, s_{t+1}, x_{t+1} \\right) \\right] $$\n",
    "\n",
    "\n",
    "- Replace decision rule to get $\\forall m_t, s_t$\n",
    "\n",
    "$$F(m_t, s_t) = E_t \\left[ {\\color{red}f}\\left(m_t, s_t, \\varphi(m_t, s_t), m_{t+1}, s_{t+1}, \\tilde{\\varphi}(m_{t+1}, s_{t+1}) \\right) \\right] =0 $$\n",
    "with \n",
    "$$s_{t+1} = g(m_t, s_t, \\varphi(m_t, s_t))=0$$\n",
    "\n",
    "- $\\varphi$ (resp. $\\tilde{\\varphi}$) is the decision rule followed today (resp. tomorrow)\n",
    "- given $\\tilde{\\varphi}$, the time iteration find $\\varphi$ such that $F$ is zero"
   ]
  },
  {
   "cell_type": "markdown",
   "metadata": {
    "slideshow": {
     "slide_type": "subslide"
    }
   },
   "source": [
    "Equilibrium conditions\n",
    "\n",
    "- two-countries model\n",
    "- NK model\n",
    "- complementarities"
   ]
  },
  {
   "cell_type": "markdown",
   "metadata": {
    "slideshow": {
     "slide_type": "subslide"
    }
   },
   "source": [
    "### Time Iterations\n",
    "\n",
    "- Denote by $\\mathbf{x}=(x_{i,n,i_x})$ the controls on the grid $\\mathcal{G}$\n",
    "- Denote by $\\mathbf{\\tilde{x}}$ the controls on the grid for tomorrow's decision rule\n",
    "- Residuals on the grid: $F(\\mathbf{x}, \\mathbf{\\tilde{x}})$ (same dim as $\\mathbf{x}$)\n",
    "- Algo:\n",
    "    - start with $\\mathbf{x_0}$\n",
    "    - given $\\mathbf{x_n}$ solve nonlinarly for $\\mathbf{x_{n+1}}$ such that $F(\\mathbf{x_{n+1}}, \\mathbf{x_{n}})=0$\n",
    "        - (easy because the system is sparse)\n",
    "    - stop when $\\eta_n=|\\mathbf{x_{n+1}}-\\mathbf{x_n}| <\\eta$\n",
    "    - watch $\\lambda_n=\\frac{\\eta_{n+1}}{\\eta_{n}}$ (should be $<\\lambda<1$)"
   ]
  },
  {
   "cell_type": "code",
   "execution_count": 16,
   "metadata": {
    "collapsed": true,
    "slideshow": {
     "slide_type": "subslide"
    }
   },
   "outputs": [],
   "source": [
    "Dolo.time_iteration(model, verbose=false);"
   ]
  },
  {
   "cell_type": "markdown",
   "metadata": {
    "slideshow": {
     "slide_type": "subslide"
    }
   },
   "source": [
    "Remarks:\n",
    "\n",
    "- convergence is geometric (slow)\n",
    "- vectorization is more efficient hence faster than VFI\n",
    "    - scales better\n",
    "- the existence/unicity results are more complicated\n",
    "    - not necessarly implied by convergence of VFI\n",
    "    - sometimes there is no Bellman\n",
    "    - $\\lambda<1$ is necessary for local unicity"
   ]
  },
  {
   "cell_type": "markdown",
   "metadata": {
    "slideshow": {
     "slide_type": "subslide"
    }
   },
   "source": [
    "### Direct Time-Iterations\n",
    "\n",
    "Sometimes we get optimal controls in closed-form as a function of expectations.\n",
    "In the neoclassical example we can compute:\n",
    "\n",
    "$$w_t = \\beta E_t \\left[ \\left( c_{t+1} \\right)^{-\\gamma} \\left( \\alpha \\frac{y_t}{k_t} + (1-\\delta) \\right) \\right] \\leq 1 \\perp 0\\leq i_t$$\n",
    "\n",
    "then $$c_t = (w_t)^{\\frac{-1}{\\gamma}}$$\n",
    "\n",
    "or $$i_t = \\max(0, y_t -  (w_t)^{\\frac{-1}{\\gamma}})$$\n",
    "\n"
   ]
  },
  {
   "cell_type": "markdown",
   "metadata": {},
   "source": [
    "### Direct Time-Iterations (2)\n",
    "\n",
    "$$w_t = E \\left[ h(m_{t+1}, s_{t+1}, x_{t+1} )\\right]$$\n",
    "\n",
    "$$x_t = d(m_t, s_t, w_t)$$\n",
    "\n",
    "- Leads to faster convergence (no system to solve)\n",
    "- 100% equivalent to time-iterations"
   ]
  },
  {
   "cell_type": "code",
   "execution_count": 20,
   "metadata": {
    "collapsed": true,
    "slideshow": {
     "slide_type": "subslide"
    }
   },
   "outputs": [],
   "source": [
    "# example"
   ]
  },
  {
   "cell_type": "markdown",
   "metadata": {
    "slideshow": {
     "slide_type": "subslide"
    }
   },
   "source": [
    "### Improved Time-Iterations\n",
    "\n",
    "- Very new / experimental\n",
    "- Up to 400 times faster than time-iterations\n",
    "- Quadratic convergence for the outer loop."
   ]
  },
  {
   "cell_type": "markdown",
   "metadata": {
    "slideshow": {
     "slide_type": "subslide"
    }
   },
   "source": [
    "- Try to solve $G(\\mathbf{x}) = F(\\mathbf{x},\\mathbf{x})$ as a nonlinear system in $\\mathbf{x}$ using a Newton algorithm.\n",
    "\n",
    "    - complicated: involves the computation of $G^{\\prime}(\\mathbf{x})^{-1}.\\mathbf{r}$\n",
    "\n",
    "- Split in two: $G^{\\prime}(\\mathbf{x}) = F^{\\prime}_\\mathbf{x}(\\mathbf{x}, \\mathbf{x}) + F^{\\prime}_\\mathbf{\\tilde{x}}(\\mathbf{x}, \\mathbf{{x}})=A_n-B_n$\n",
    "\n",
    "    - $A_n$ is simple but $B_n$ is complicated\n",
    "    \n",
    "    ![alt text](notebooks/jacobian.png \"Logo Title Text 1\")\n"
   ]
  },
  {
   "cell_type": "markdown",
   "metadata": {
    "slideshow": {
     "slide_type": "subslide"
    }
   },
   "source": [
    "- Idea (1):\n",
    "    - compute $$(A_n-B_n)^{-1} \\mathbf{r} = \\left( I + A_n^{-1}B_n + (A_n^{-1}B_n)^2 + ...  \\right) A_n^{-1}\\mathbf{r}$$\n",
    "    - doesn't require inversion of $B_n$\n",
    "    - all is needed is to compute successive terms: $\\pi_k = A_n^{-1} B_n \\pi_{k-1}$ with $\\pi_0 = A_n^{-1}\\mathbf{r}$\n",
    "    - still too slow\n",
    "- Idea (2):\n",
    "    - one never needs to construct $B_n$ to compute $B_n.\\pi_{n-1}$ (cf. linear operator)\n",
    "    - interpolation must be linear w.r.t. data\n",
    "    - computation of the infinite sum is very fast"
   ]
  },
  {
   "cell_type": "markdown",
   "metadata": {
    "slideshow": {
     "slide_type": "subslide"
    }
   },
   "source": [
    "- Deep parallels with Howard improvments:\n",
    "    - geometric->quadratic\n",
    "    - inner-loops consists in a linear system\n",
    "\n",
    "- The same calculations from the infinite sum can be used to compute the exact spectral radius of the time iteration operator $T$, i.e. $\\lambda$\n",
    "such that $$|T^{\\prime}(\\overline{x}).\\mathbf{r}| <\\lambda |\\mathbf{r}|$$"
   ]
  },
  {
   "cell_type": "code",
   "execution_count": 27,
   "metadata": {
    "slideshow": {
     "slide_type": "subslide"
    }
   },
   "outputs": [
    {
     "name": "stdout",
     "output_type": "stream",
     "text": [
      "------------------------------------------------------------------------------------------------------------------------\n",
      "N\tf_x\t\td_x\tTime_residuals\tTime_inversion\tTime_search\tLambda_0\tN_invert\tN_search\t\n",
      "------------------------------------------------------------------------------------------------------------------------\n",
      "1      1.128715e-01 5.378337e-02     1.0002         0.5560         0.00676        0.869           99               1    \n",
      "2      8.331839e-03 5.972933e-03     0.0123         0.0734         0.00105        0.888           114              1    \n",
      "3      1.513728e-04 1.115426e-04     0.0140         0.0640         0.00089        0.890           86               1    \n",
      "4      5.694427e-08 4.053276e-08     0.0169         0.0145         0.00090        0.880           22               1    \n",
      "5      2.187510e-11 5.625976e-11     0.0141         0.0009         0.00090        0.783           0                1    \n",
      "------------------------------------------------------------------------------------------------------------------------\n"
     ]
    },
    {
     "data": {
      "text/plain": [
       "Results of Improved Time Iteration Algorithm\n",
       " * Number of iterations: 5\n",
       " * Complementarities: false\n",
       " * Decision Rule type: Dolo.DecisionRule{Dolo.CartesianGrid,Dolo.CartesianGrid}\n",
       " * Convergence: true\n",
       " * Contractivity: 0.7825863363667995\n",
       "   * |x - x'| < 1.0e-08: true\n"
      ]
     },
     "execution_count": 27,
     "metadata": {},
     "output_type": "execute_result"
    }
   ],
   "source": [
    "Dolo.improved_time_iteration(model)"
   ]
  },
  {
   "cell_type": "markdown",
   "metadata": {
    "slideshow": {
     "slide_type": "slide"
    }
   },
   "source": [
    "## Fixed-Point Algorithms"
   ]
  },
  {
   "cell_type": "markdown",
   "metadata": {
    "slideshow": {
     "slide_type": "subslide"
    }
   },
   "source": [
    "### Parameterized Expectations\n",
    "\n",
    "Suppose the model takes the form:\n",
    "\n",
    "\n",
    "$$w_t = E \\left[ h(m_{t+1}, s_{t+1}, x_{t+1} )\\right]$$\n",
    "\n",
    "$$x_t = d(m_t, s_t, w_t)$$\n",
    "\n",
    "\n",
    "In this case, it might be tempting for a function $w_t = \\psi(m_t, s_t)$\n",
    "\n",
    "It might work:\n",
    "- in which case it is faster if there is one expectation variable instead of many controls\n",
    "- but convergence is not guaranteed and in general not equivalent to time-iterations\n"
   ]
  },
  {
   "cell_type": "markdown",
   "metadata": {
    "slideshow": {
     "slide_type": "subslide"
    }
   },
   "source": [
    "### Computing Expectations Just Once\n",
    "\n",
    "A few additional assumptions:\n",
    "\n",
    "- Transitions are non stochastic: $$s_t = g(s_{t-1}, x_{t-1})$$\n",
    "- Future states are present controls $$s_{t+1}=x_t$$\n",
    "\n",
    "There is a fixed point representation of the expectation function:\n",
    "\n",
    "$$w_t = E \\left[ h(m_{t+1}, s_{t+1}, w_{t+1} )\\right] $$\n",
    "\n",
    "\n",
    "Then a very fast algorithm is available to precompute integrals (Maliar and Maliar):\n",
    "- but it is not guaranteed to converge"
   ]
  },
  {
   "cell_type": "markdown",
   "metadata": {
    "collapsed": true,
    "slideshow": {
     "slide_type": "subslide"
    }
   },
   "source": [
    "## Other algorithms\n",
    "\n",
    "Sparse grids:\n",
    "- Smolyak + polynomials (Maliar and Maliar)\n",
    "- Smolyak + linear (Simon Scheidegger)\n",
    "\n",
    "Alternatives to grids:\n",
    "- Galerkin\n",
    "- Regressions\n",
    "    - PEA (original)\n",
    "    - GSSA\n",
    "\n",
    "Not implemented yet but upcoming (see Python side)\n",
    "\n"
   ]
  }
 ],
 "metadata": {
  "celltoolbar": "Slideshow",
  "kernelspec": {
   "display_name": "Julia 0.6.0-rc1",
   "language": "julia",
   "name": "julia-0.6"
  },
  "language_info": {
   "file_extension": ".jl",
   "mimetype": "application/julia",
   "name": "julia",
   "version": "0.6.0"
  },
  "toc": {
   "colors": {
    "hover_highlight": "#DAA520",
    "navigate_num": "#000000",
    "navigate_text": "#333333",
    "running_highlight": "#FF0000",
    "selected_highlight": "#FFD700",
    "sidebar_border": "#EEEEEE",
    "wrapper_background": "#FFFFFF"
   },
   "moveMenuLeft": true,
   "nav_menu": {
    "height": "136px",
    "width": "253px"
   },
   "navigate_menu": true,
   "number_sections": true,
   "sideBar": true,
   "threshold": 4,
   "toc_cell": false,
   "toc_section_display": "block",
   "toc_window_display": false,
   "widenNotebook": false
  }
 },
 "nbformat": 4,
 "nbformat_minor": 2
}
